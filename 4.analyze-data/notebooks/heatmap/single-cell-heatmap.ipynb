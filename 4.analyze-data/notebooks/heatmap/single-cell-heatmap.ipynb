{
 "cells": [
  {
   "cell_type": "markdown",
   "id": "6a739ad0-6a6d-4649-8abd-d4ac5079a5cb",
   "metadata": {},
   "source": [
    "## Generate single cell heatmaps"
   ]
  },
  {
   "cell_type": "code",
   "execution_count": 1,
   "id": "0c4b5beb-7229-46b2-b0fd-ab1a3633f46b",
   "metadata": {},
   "outputs": [
    {
     "name": "stderr",
     "output_type": "stream",
     "text": [
      "'getOption(\"repos\")' replaces Bioconductor standard repositories, see\n",
      "'?repositories' for details\n",
      "\n",
      "replacement repositories:\n",
      "    CRAN: https://cran.r-project.org\n",
      "\n",
      "\n",
      "Bioconductor version 3.16 (BiocManager 1.30.19), R 4.2.2 (2022-10-31)\n",
      "\n",
      "Warning message:\n",
      "“package(s) not installed when version(s) same as or greater than current; use\n",
      "  `force = TRUE` to re-install: 'ComplexHeatmap'”\n",
      "Old packages: 'curl', 'dplyr', 'gert', 'ggrepel', 'sourcetools'\n",
      "\n"
     ]
    }
   ],
   "source": [
    "# Temporary install of complex heatmap for M1 incompatibilties\n",
    "# To change later\n",
    "if (!requireNamespace(\"BiocManager\", quietly=TRUE))\n",
    "    install.packages(\"BiocManager\")\n",
    "\n",
    "BiocManager::install(\"ComplexHeatmap\")"
   ]
  },
  {
   "cell_type": "code",
   "execution_count": 2,
   "id": "20d2bf30-3ef7-421e-b522-b52d6e52d979",
   "metadata": {},
   "outputs": [],
   "source": [
    "suppressPackageStartupMessages(library(ComplexHeatmap))\n",
    "suppressPackageStartupMessages(library(dplyr))"
   ]
  },
  {
   "cell_type": "code",
   "execution_count": 3,
   "id": "03999dcf-77a1-4639-841e-b3ffd36fea53",
   "metadata": {},
   "outputs": [],
   "source": [
    "# Set paths and constants\n",
    "plate_to_focus <- \"localhost220513100001_KK22-05-198_FactinAdjusted\"\n",
    "input_data_dir <- file.path(\"..\", \"..\", \"..\", \"3.process-cfret-features\", \"data\")\n",
    "\n",
    "output_figure_dir <- \"figures\"\n",
    "cp_heatmap_file_noext <- file.path(output_figure_dir, \"cp_complex_heatmap\")"
   ]
  },
  {
   "cell_type": "code",
   "execution_count": 4,
   "id": "df36a5e3-baab-4665-9b35-ed7c6afb383c",
   "metadata": {},
   "outputs": [],
   "source": [
    "treatment_colors = c(\n",
    "    \"Null\" = \"#785EF0\",\n",
    "    \"WT\" = \"#DC267F\"\n",
    ")"
   ]
  },
  {
   "cell_type": "markdown",
   "id": "3a5f327c-8c8c-4ced-a275-009755524abb",
   "metadata": {},
   "source": [
    "## Create a heatmap for CP features"
   ]
  },
  {
   "cell_type": "code",
   "execution_count": 5,
   "id": "d3fc555b-e2f3-4011-ae85-5658eac23a91",
   "metadata": {},
   "outputs": [
    {
     "name": "stdout",
     "output_type": "stream",
     "text": [
      "[1] 17352   629\n"
     ]
    },
    {
     "data": {
      "text/html": [
       "<table class=\"dataframe\">\n",
       "<caption>A tibble: 3 × 629</caption>\n",
       "<thead>\n",
       "\t<tr><th scope=col>Metadata_WellRow</th><th scope=col>Metadata_WellCol</th><th scope=col>Metadata_heart_number</th><th scope=col>Metadata_treatment</th><th scope=col>Metadata_dose</th><th scope=col>Metadata_ImageNumber</th><th scope=col>Metadata_Plate</th><th scope=col>Metadata_Well</th><th scope=col>Metadata_Cytoplasm_Parent_Cells</th><th scope=col>Metadata_Cytoplasm_Parent_Nuclei</th><th scope=col>⋯</th><th scope=col>Nuclei_Texture_InverseDifferenceMoment_Mitochondria_3_03_256</th><th scope=col>Nuclei_Texture_SumEntropy_ER_3_03_256</th><th scope=col>Nuclei_Texture_SumEntropy_Golgi_3_01_256</th><th scope=col>Nuclei_Texture_SumEntropy_Mitochondria_3_03_256</th><th scope=col>Nuclei_Texture_SumVariance_Actin_3_01_256</th><th scope=col>Nuclei_Texture_SumVariance_ER_3_03_256</th><th scope=col>Nuclei_Texture_SumVariance_Golgi_3_01_256</th><th scope=col>Nuclei_Texture_SumVariance_Hoechst_3_01_256</th><th scope=col>Nuclei_Texture_SumVariance_Mitochondria_3_03_256</th><th scope=col>Metadata_cell_count_per_well</th></tr>\n",
       "\t<tr><th scope=col>&lt;chr&gt;</th><th scope=col>&lt;chr&gt;</th><th scope=col>&lt;chr&gt;</th><th scope=col>&lt;chr&gt;</th><th scope=col>&lt;chr&gt;</th><th scope=col>&lt;chr&gt;</th><th scope=col>&lt;chr&gt;</th><th scope=col>&lt;chr&gt;</th><th scope=col>&lt;dbl&gt;</th><th scope=col>&lt;dbl&gt;</th><th scope=col>⋯</th><th scope=col>&lt;dbl&gt;</th><th scope=col>&lt;dbl&gt;</th><th scope=col>&lt;dbl&gt;</th><th scope=col>&lt;dbl&gt;</th><th scope=col>&lt;dbl&gt;</th><th scope=col>&lt;dbl&gt;</th><th scope=col>&lt;dbl&gt;</th><th scope=col>&lt;dbl&gt;</th><th scope=col>&lt;dbl&gt;</th><th scope=col>&lt;int&gt;</th></tr>\n",
       "</thead>\n",
       "<tbody>\n",
       "\t<tr><td>A</td><td>9</td><td>9</td><td>drug_x</td><td>5uM</td><td>1</td><td>localhost220513100001</td><td>A09</td><td>1</td><td>3</td><td>⋯</td><td>-0.7714563</td><td> 0.3830138</td><td> 1.5279864</td><td> 1.6033489</td><td>-0.4200762</td><td>-0.2362416</td><td> 0.20380578</td><td>-0.3547300</td><td> 0.16163561</td><td>342</td></tr>\n",
       "\t<tr><td>A</td><td>9</td><td>9</td><td>drug_x</td><td>5uM</td><td>1</td><td>localhost220513100001</td><td>A09</td><td>2</td><td>4</td><td>⋯</td><td> 0.9654590</td><td>-0.9223457</td><td>-0.4915354</td><td>-1.0004204</td><td>-0.4608149</td><td>-0.4684389</td><td>-0.20632511</td><td>-0.3310333</td><td>-0.18902928</td><td>342</td></tr>\n",
       "\t<tr><td>A</td><td>9</td><td>9</td><td>drug_x</td><td>5uM</td><td>1</td><td>localhost220513100001</td><td>A09</td><td>3</td><td>7</td><td>⋯</td><td>-1.4119451</td><td> 0.1231898</td><td> 0.9340863</td><td> 0.9589492</td><td>-0.4689575</td><td>-0.2375866</td><td>-0.03696811</td><td>-0.1078189</td><td>-0.06320025</td><td>342</td></tr>\n",
       "</tbody>\n",
       "</table>\n"
      ],
      "text/latex": [
       "A tibble: 3 × 629\n",
       "\\begin{tabular}{lllllllllllllllllllll}\n",
       " Metadata\\_WellRow & Metadata\\_WellCol & Metadata\\_heart\\_number & Metadata\\_treatment & Metadata\\_dose & Metadata\\_ImageNumber & Metadata\\_Plate & Metadata\\_Well & Metadata\\_Cytoplasm\\_Parent\\_Cells & Metadata\\_Cytoplasm\\_Parent\\_Nuclei & ⋯ & Nuclei\\_Texture\\_InverseDifferenceMoment\\_Mitochondria\\_3\\_03\\_256 & Nuclei\\_Texture\\_SumEntropy\\_ER\\_3\\_03\\_256 & Nuclei\\_Texture\\_SumEntropy\\_Golgi\\_3\\_01\\_256 & Nuclei\\_Texture\\_SumEntropy\\_Mitochondria\\_3\\_03\\_256 & Nuclei\\_Texture\\_SumVariance\\_Actin\\_3\\_01\\_256 & Nuclei\\_Texture\\_SumVariance\\_ER\\_3\\_03\\_256 & Nuclei\\_Texture\\_SumVariance\\_Golgi\\_3\\_01\\_256 & Nuclei\\_Texture\\_SumVariance\\_Hoechst\\_3\\_01\\_256 & Nuclei\\_Texture\\_SumVariance\\_Mitochondria\\_3\\_03\\_256 & Metadata\\_cell\\_count\\_per\\_well\\\\\n",
       " <chr> & <chr> & <chr> & <chr> & <chr> & <chr> & <chr> & <chr> & <dbl> & <dbl> & ⋯ & <dbl> & <dbl> & <dbl> & <dbl> & <dbl> & <dbl> & <dbl> & <dbl> & <dbl> & <int>\\\\\n",
       "\\hline\n",
       "\t A & 9 & 9 & drug\\_x & 5uM & 1 & localhost220513100001 & A09 & 1 & 3 & ⋯ & -0.7714563 &  0.3830138 &  1.5279864 &  1.6033489 & -0.4200762 & -0.2362416 &  0.20380578 & -0.3547300 &  0.16163561 & 342\\\\\n",
       "\t A & 9 & 9 & drug\\_x & 5uM & 1 & localhost220513100001 & A09 & 2 & 4 & ⋯ &  0.9654590 & -0.9223457 & -0.4915354 & -1.0004204 & -0.4608149 & -0.4684389 & -0.20632511 & -0.3310333 & -0.18902928 & 342\\\\\n",
       "\t A & 9 & 9 & drug\\_x & 5uM & 1 & localhost220513100001 & A09 & 3 & 7 & ⋯ & -1.4119451 &  0.1231898 &  0.9340863 &  0.9589492 & -0.4689575 & -0.2375866 & -0.03696811 & -0.1078189 & -0.06320025 & 342\\\\\n",
       "\\end{tabular}\n"
      ],
      "text/markdown": [
       "\n",
       "A tibble: 3 × 629\n",
       "\n",
       "| Metadata_WellRow &lt;chr&gt; | Metadata_WellCol &lt;chr&gt; | Metadata_heart_number &lt;chr&gt; | Metadata_treatment &lt;chr&gt; | Metadata_dose &lt;chr&gt; | Metadata_ImageNumber &lt;chr&gt; | Metadata_Plate &lt;chr&gt; | Metadata_Well &lt;chr&gt; | Metadata_Cytoplasm_Parent_Cells &lt;dbl&gt; | Metadata_Cytoplasm_Parent_Nuclei &lt;dbl&gt; | ⋯ ⋯ | Nuclei_Texture_InverseDifferenceMoment_Mitochondria_3_03_256 &lt;dbl&gt; | Nuclei_Texture_SumEntropy_ER_3_03_256 &lt;dbl&gt; | Nuclei_Texture_SumEntropy_Golgi_3_01_256 &lt;dbl&gt; | Nuclei_Texture_SumEntropy_Mitochondria_3_03_256 &lt;dbl&gt; | Nuclei_Texture_SumVariance_Actin_3_01_256 &lt;dbl&gt; | Nuclei_Texture_SumVariance_ER_3_03_256 &lt;dbl&gt; | Nuclei_Texture_SumVariance_Golgi_3_01_256 &lt;dbl&gt; | Nuclei_Texture_SumVariance_Hoechst_3_01_256 &lt;dbl&gt; | Nuclei_Texture_SumVariance_Mitochondria_3_03_256 &lt;dbl&gt; | Metadata_cell_count_per_well &lt;int&gt; |\n",
       "|---|---|---|---|---|---|---|---|---|---|---|---|---|---|---|---|---|---|---|---|---|\n",
       "| A | 9 | 9 | drug_x | 5uM | 1 | localhost220513100001 | A09 | 1 | 3 | ⋯ | -0.7714563 |  0.3830138 |  1.5279864 |  1.6033489 | -0.4200762 | -0.2362416 |  0.20380578 | -0.3547300 |  0.16163561 | 342 |\n",
       "| A | 9 | 9 | drug_x | 5uM | 1 | localhost220513100001 | A09 | 2 | 4 | ⋯ |  0.9654590 | -0.9223457 | -0.4915354 | -1.0004204 | -0.4608149 | -0.4684389 | -0.20632511 | -0.3310333 | -0.18902928 | 342 |\n",
       "| A | 9 | 9 | drug_x | 5uM | 1 | localhost220513100001 | A09 | 3 | 7 | ⋯ | -1.4119451 |  0.1231898 |  0.9340863 |  0.9589492 | -0.4689575 | -0.2375866 | -0.03696811 | -0.1078189 | -0.06320025 | 342 |\n",
       "\n"
      ],
      "text/plain": [
       "  Metadata_WellRow Metadata_WellCol Metadata_heart_number Metadata_treatment\n",
       "1 A                9                9                     drug_x            \n",
       "2 A                9                9                     drug_x            \n",
       "3 A                9                9                     drug_x            \n",
       "  Metadata_dose Metadata_ImageNumber Metadata_Plate        Metadata_Well\n",
       "1 5uM           1                    localhost220513100001 A09          \n",
       "2 5uM           1                    localhost220513100001 A09          \n",
       "3 5uM           1                    localhost220513100001 A09          \n",
       "  Metadata_Cytoplasm_Parent_Cells Metadata_Cytoplasm_Parent_Nuclei ⋯\n",
       "1 1                               3                                ⋯\n",
       "2 2                               4                                ⋯\n",
       "3 3                               7                                ⋯\n",
       "  Nuclei_Texture_InverseDifferenceMoment_Mitochondria_3_03_256\n",
       "1 -0.7714563                                                  \n",
       "2  0.9654590                                                  \n",
       "3 -1.4119451                                                  \n",
       "  Nuclei_Texture_SumEntropy_ER_3_03_256\n",
       "1  0.3830138                           \n",
       "2 -0.9223457                           \n",
       "3  0.1231898                           \n",
       "  Nuclei_Texture_SumEntropy_Golgi_3_01_256\n",
       "1  1.5279864                              \n",
       "2 -0.4915354                              \n",
       "3  0.9340863                              \n",
       "  Nuclei_Texture_SumEntropy_Mitochondria_3_03_256\n",
       "1  1.6033489                                     \n",
       "2 -1.0004204                                     \n",
       "3  0.9589492                                     \n",
       "  Nuclei_Texture_SumVariance_Actin_3_01_256\n",
       "1 -0.4200762                               \n",
       "2 -0.4608149                               \n",
       "3 -0.4689575                               \n",
       "  Nuclei_Texture_SumVariance_ER_3_03_256\n",
       "1 -0.2362416                            \n",
       "2 -0.4684389                            \n",
       "3 -0.2375866                            \n",
       "  Nuclei_Texture_SumVariance_Golgi_3_01_256\n",
       "1  0.20380578                              \n",
       "2 -0.20632511                              \n",
       "3 -0.03696811                              \n",
       "  Nuclei_Texture_SumVariance_Hoechst_3_01_256\n",
       "1 -0.3547300                                 \n",
       "2 -0.3310333                                 \n",
       "3 -0.1078189                                 \n",
       "  Nuclei_Texture_SumVariance_Mitochondria_3_03_256 Metadata_cell_count_per_well\n",
       "1  0.16163561                                      342                         \n",
       "2 -0.18902928                                      342                         \n",
       "3 -0.06320025                                      342                         "
      ]
     },
     "metadata": {},
     "output_type": "display_data"
    }
   ],
   "source": [
    "# Load data\n",
    "cp_file <- file.path(\n",
    "    input_data_dir, paste0(plate_to_focus, \"_sc_norm_fs_cellprofiler.csv.gz\")\n",
    ")\n",
    "\n",
    "cp_df <- readr::read_csv(\n",
    "    cp_file,\n",
    "    col_types = readr::cols(\n",
    "        .default=\"d\",\n",
    "        \"Metadata_WellRow\" = \"c\",\n",
    "        \"Metadata_WellCol\" = \"c\",\n",
    "        \"Metadata_heart_number\" = \"c\",\n",
    "        \"Metadata_treatment\" = \"c\",\n",
    "        \"Metadata_dose\" = \"c\",\n",
    "        \"Metadata_ImageNumber\" = \"c\",\n",
    "        \"Metadata_Plate\" = \"c\",\n",
    "        \"Metadata_Well\" = \"c\"\n",
    "    )\n",
    ")\n",
    "\n",
    "cell_count_df <- cp_df %>%\n",
    "    dplyr::group_by(Metadata_Well) %>%\n",
    "    dplyr::count()\n",
    "\n",
    "cp_df <- cp_df %>%\n",
    "    dplyr::left_join(cell_count_df, by = \"Metadata_Well\") %>%\n",
    "    dplyr::rename(Metadata_cell_count_per_well = n)\n",
    "\n",
    "print(dim(cp_df))\n",
    "head(cp_df, 3)"
   ]
  },
  {
   "cell_type": "code",
   "execution_count": 6,
   "id": "5cd4ee99-3e7e-46d6-bc5e-c4d137f324af",
   "metadata": {},
   "outputs": [],
   "source": [
    "# Split metadata and feature data\n",
    "cp_metadata_df <- cp_df %>% dplyr::select(tidyr::starts_with(\"Metadata\"))\n",
    "cp_meta_cols <- colnames(cp_metadata_df)\n",
    "cp_df <- cp_df %>% dplyr::select(-!!cp_meta_cols)"
   ]
  },
  {
   "cell_type": "code",
   "execution_count": 7,
   "id": "610b83db-0d93-483f-80d3-fb68f3d273b6",
   "metadata": {},
   "outputs": [
    {
     "name": "stdout",
     "output_type": "stream",
     "text": [
      "[1] 17352 17352\n"
     ]
    },
    {
     "data": {
      "text/html": [
       "<table class=\"dataframe\">\n",
       "<caption>A matrix: 3 × 17352 of type dbl</caption>\n",
       "<tbody>\n",
       "\t<tr><td>1.0000000</td><td>0.2082696</td><td>0.2550026</td><td>0.65792044</td><td>0.005706803</td><td>0.1126529</td><td>0.1487917</td><td>-0.17203697</td><td>0.1974713</td><td>0.02974855</td><td>⋯</td><td>-0.1541250</td><td> 0.03889222</td><td>-0.202090019</td><td>NA</td><td>-0.08903938</td><td> 0.12714691</td><td> 0.01744927</td><td>-0.28755110</td><td>-0.03750908</td><td>-0.1293498</td></tr>\n",
       "\t<tr><td>0.2082696</td><td>1.0000000</td><td>0.1128783</td><td>0.07584488</td><td>0.454565714</td><td>0.2936307</td><td>0.3294942</td><td> 0.34912475</td><td>0.1942269</td><td>0.36667699</td><td>⋯</td><td>-0.1389933</td><td>-0.13974896</td><td>-0.125938834</td><td>NA</td><td>-0.15653098</td><td>-0.03039804</td><td>-0.12074641</td><td>-0.07961257</td><td>-0.19487386</td><td>-0.1765305</td></tr>\n",
       "\t<tr><td>0.2550026</td><td>0.1128783</td><td>1.0000000</td><td>0.38482358</td><td>0.030886270</td><td>0.3553611</td><td>0.1013867</td><td> 0.07427077</td><td>0.2599918</td><td>0.01587037</td><td>⋯</td><td>-0.1747167</td><td>-0.17856485</td><td> 0.002924819</td><td>NA</td><td>-0.21859835</td><td> 0.11813997</td><td> 0.05696618</td><td>-0.06770107</td><td>-0.01817249</td><td> 0.0736789</td></tr>\n",
       "</tbody>\n",
       "</table>\n"
      ],
      "text/latex": [
       "A matrix: 3 × 17352 of type dbl\n",
       "\\begin{tabular}{lllllllllllllllllllll}\n",
       "\t 1.0000000 & 0.2082696 & 0.2550026 & 0.65792044 & 0.005706803 & 0.1126529 & 0.1487917 & -0.17203697 & 0.1974713 & 0.02974855 & ⋯ & -0.1541250 &  0.03889222 & -0.202090019 & NA & -0.08903938 &  0.12714691 &  0.01744927 & -0.28755110 & -0.03750908 & -0.1293498\\\\\n",
       "\t 0.2082696 & 1.0000000 & 0.1128783 & 0.07584488 & 0.454565714 & 0.2936307 & 0.3294942 &  0.34912475 & 0.1942269 & 0.36667699 & ⋯ & -0.1389933 & -0.13974896 & -0.125938834 & NA & -0.15653098 & -0.03039804 & -0.12074641 & -0.07961257 & -0.19487386 & -0.1765305\\\\\n",
       "\t 0.2550026 & 0.1128783 & 1.0000000 & 0.38482358 & 0.030886270 & 0.3553611 & 0.1013867 &  0.07427077 & 0.2599918 & 0.01587037 & ⋯ & -0.1747167 & -0.17856485 &  0.002924819 & NA & -0.21859835 &  0.11813997 &  0.05696618 & -0.06770107 & -0.01817249 &  0.0736789\\\\\n",
       "\\end{tabular}\n"
      ],
      "text/markdown": [
       "\n",
       "A matrix: 3 × 17352 of type dbl\n",
       "\n",
       "| 1.0000000 | 0.2082696 | 0.2550026 | 0.65792044 | 0.005706803 | 0.1126529 | 0.1487917 | -0.17203697 | 0.1974713 | 0.02974855 | ⋯ | -0.1541250 |  0.03889222 | -0.202090019 | NA | -0.08903938 |  0.12714691 |  0.01744927 | -0.28755110 | -0.03750908 | -0.1293498 |\n",
       "| 0.2082696 | 1.0000000 | 0.1128783 | 0.07584488 | 0.454565714 | 0.2936307 | 0.3294942 |  0.34912475 | 0.1942269 | 0.36667699 | ⋯ | -0.1389933 | -0.13974896 | -0.125938834 | NA | -0.15653098 | -0.03039804 | -0.12074641 | -0.07961257 | -0.19487386 | -0.1765305 |\n",
       "| 0.2550026 | 0.1128783 | 1.0000000 | 0.38482358 | 0.030886270 | 0.3553611 | 0.1013867 |  0.07427077 | 0.2599918 | 0.01587037 | ⋯ | -0.1747167 | -0.17856485 |  0.002924819 | NA | -0.21859835 |  0.11813997 |  0.05696618 | -0.06770107 | -0.01817249 |  0.0736789 |\n",
       "\n"
      ],
      "text/plain": [
       "     [,1]      [,2]      [,3]      [,4]       [,5]        [,6]      [,7]     \n",
       "[1,] 1.0000000 0.2082696 0.2550026 0.65792044 0.005706803 0.1126529 0.1487917\n",
       "[2,] 0.2082696 1.0000000 0.1128783 0.07584488 0.454565714 0.2936307 0.3294942\n",
       "[3,] 0.2550026 0.1128783 1.0000000 0.38482358 0.030886270 0.3553611 0.1013867\n",
       "     [,8]        [,9]      [,10]      [,11] [,12]      [,13]       [,14]       \n",
       "[1,] -0.17203697 0.1974713 0.02974855 ⋯     -0.1541250  0.03889222 -0.202090019\n",
       "[2,]  0.34912475 0.1942269 0.36667699 ⋯     -0.1389933 -0.13974896 -0.125938834\n",
       "[3,]  0.07427077 0.2599918 0.01587037 ⋯     -0.1747167 -0.17856485  0.002924819\n",
       "     [,15] [,16]       [,17]       [,18]       [,19]       [,20]      \n",
       "[1,] NA    -0.08903938  0.12714691  0.01744927 -0.28755110 -0.03750908\n",
       "[2,] NA    -0.15653098 -0.03039804 -0.12074641 -0.07961257 -0.19487386\n",
       "[3,] NA    -0.21859835  0.11813997  0.05696618 -0.06770107 -0.01817249\n",
       "     [,21]     \n",
       "[1,] -0.1293498\n",
       "[2,] -0.1765305\n",
       "[3,]  0.0736789"
      ]
     },
     "metadata": {},
     "output_type": "display_data"
    }
   ],
   "source": [
    "# Calculate correlation matrix from feature data\n",
    "cp_cor_matrix <- t(cp_df) %>% cor()\n",
    "\n",
    "print(dim(cp_cor_matrix))\n",
    "head(cp_cor_matrix, 3)"
   ]
  },
  {
   "cell_type": "code",
   "execution_count": null,
   "id": "0bc36c0c-225e-41e5-9eab-bfbef1755757",
   "metadata": {},
   "outputs": [],
   "source": [
    "ht <- Heatmap(\n",
    "    cp_cor_matrix,\n",
    "    name = \"Pearson\\nCorrelation\",\n",
    "    column_dend_side = \"top\",\n",
    "    \n",
    "    clustering_method_columns = \"average\",\n",
    "    clustering_method_rows = \"average\",\n",
    "    \n",
    "    top_annotation = HeatmapAnnotation(\n",
    "        Treatment = cp_metadata_df$Metadata_treatment,\n",
    "        CellCount = anno_barplot(\n",
    "            cp_metadata_df$Metadata_cell_count_per_well,\n",
    "            height = unit(1, \"cm\")\n",
    "        ),\n",
    "        Well = cp_metadata_df$Metadata_Well,\n",
    "        Dose = cp_metadata_df$Metadata_dose\n",
    "    )\n",
    ")\n",
    "\n",
    "draw(ht)"
   ]
  },
  {
   "cell_type": "code",
   "execution_count": null,
   "id": "c14ed0a4-441e-4800-bf99-87d7d20170d9",
   "metadata": {},
   "outputs": [],
   "source": [
    "# Save heatmap to file\n",
    "pdf(paste0(dp_heatmap_file_noext, \".pdf\"))\n",
    "draw(ht)\n",
    "dev.off()\n",
    "\n",
    "png(paste0(dp_heatmap_file_noext, \".png\"), width = 6.5, height = 6, units = \"in\", res = 500)\n",
    "draw(ht)\n",
    "dev.off()"
   ]
  }
 ],
 "metadata": {
  "kernelspec": {
   "display_name": "R [conda env:cfret_figures] *",
   "language": "R",
   "name": "conda-env-cfret_figures-r"
  },
  "language_info": {
   "codemirror_mode": "r",
   "file_extension": ".r",
   "mimetype": "text/x-r-source",
   "name": "R",
   "pygments_lexer": "r",
   "version": "4.2.2"
  }
 },
 "nbformat": 4,
 "nbformat_minor": 5
}
